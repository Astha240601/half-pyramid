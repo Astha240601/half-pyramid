{
 "cells": [
  {
   "cell_type": "code",
   "execution_count": 1,
   "id": "fa1f8c30",
   "metadata": {},
   "outputs": [
    {
     "name": "stdout",
     "output_type": "stream",
     "text": [
      "Enter number of rows: 11\n",
      "A \n",
      "\n",
      "B B \n",
      "\n",
      "C C C \n",
      "\n",
      "D D D D \n",
      "\n",
      "E E E E E \n",
      "\n",
      "F F F F F F \n",
      "\n",
      "G G G G G G G \n",
      "\n",
      "H H H H H H H H \n",
      "\n",
      "I I I I I I I I I \n",
      "\n",
      "J J J J J J J J J J \n",
      "\n",
      "K K K K K K K K K K K \n",
      "\n"
     ]
    }
   ],
   "source": [
    "#Half pyramid pattern\n",
    "rows = int(input(\"Enter number of rows: \"))\n",
    "\n",
    "ascii_value = 65\n",
    "\n",
    "for i in range(rows):\n",
    "    for j in range(i+1):\n",
    "        alphabet = chr(ascii_value)\n",
    "        print(alphabet, end=\" \")\n",
    "    \n",
    "    ascii_value += 1\n",
    "    print(\"\\n\")"
   ]
  },
  {
   "cell_type": "code",
   "execution_count": null,
   "id": "f11b54fd",
   "metadata": {},
   "outputs": [],
   "source": []
  }
 ],
 "metadata": {
  "kernelspec": {
   "display_name": "Python 3 (ipykernel)",
   "language": "python",
   "name": "python3"
  },
  "language_info": {
   "codemirror_mode": {
    "name": "ipython",
    "version": 3
   },
   "file_extension": ".py",
   "mimetype": "text/x-python",
   "name": "python",
   "nbconvert_exporter": "python",
   "pygments_lexer": "ipython3",
   "version": "3.9.12"
  }
 },
 "nbformat": 4,
 "nbformat_minor": 5
}
